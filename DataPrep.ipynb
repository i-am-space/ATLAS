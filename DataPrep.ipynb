{
 "cells": [
  {
   "cell_type": "markdown",
   "metadata": {},
   "source": [
    "# CITIES\n",
    "- Graph of 500 of the most populated cities in the world"
   ]
  },
  {
   "cell_type": "code",
   "execution_count": 2,
   "metadata": {},
   "outputs": [
    {
     "name": "stdout",
     "output_type": "stream",
     "text": [
      "Cleaned city dataset saved to cities.csv\n"
     ]
    }
   ],
   "source": [
    "import pandas as pd\n",
    "\n",
    "# Load city data\n",
    "file_path = 'worldcities.csv'  # Replace with your file path\n",
    "df = pd.read_csv(file_path)\n",
    "\n",
    "# Keep only the 'city' column\n",
    "df = df[['city']]\n",
    "df=df.drop_duplicates()[:511]\n",
    "\n",
    "# Save the cleaned dataset\n",
    "cleaned_file_path = 'cities.csv'\n",
    "df.to_csv(cleaned_file_path, index=False)\n",
    "\n",
    "print(f\"Cleaned city dataset saved to {cleaned_file_path}\")"
   ]
  },
  {
   "cell_type": "code",
   "execution_count": null,
   "metadata": {},
   "outputs": [
    {
     "name": "stdout",
     "output_type": "stream",
     "text": [
      "A 21\n",
      "B 43\n",
      "C 32\n",
      "D 21\n",
      "E 2\n",
      "F 8\n",
      "G 17\n",
      "H 35\n",
      "I 5\n",
      "J 22\n",
      "K 24\n",
      "L 33\n",
      "M 36\n",
      "N 16\n",
      "O 3\n",
      "P 23\n",
      "Q 13\n",
      "R 9\n",
      "S 53\n",
      "T 23\n",
      "U 0\n",
      "V 5\n",
      "W 11\n",
      "X 15\n",
      "Y 22\n",
      "Z 19\n"
     ]
    }
   ],
   "source": [
    "for j in 'ABCDEFGHIJKLMNOPQRSTUVWXYZ':\n",
    "    print(j, len([i for i in df['city'] if i[0]==j]))\n",
    "# print([i for i in df['city'] if i[0]=='U'])"
   ]
  },
  {
   "cell_type": "code",
   "execution_count": 5,
   "metadata": {},
   "outputs": [
    {
     "name": "stdout",
     "output_type": "stream",
     "text": [
      "✅ Merged dataset created with only names from both files.\n"
     ]
    }
   ],
   "source": [
    "import pandas as pd\n",
    "\n",
    "# Load both CSV files\n",
    "cities_df = pd.read_csv(\"./cities.csv\")  # City file with 'name' column\n",
    "countries_df = pd.read_csv(\"./country.csv\")  # Country file with 'name' and 'id' columns\n",
    "\n",
    "# Select only the 'name' column\n",
    "cities_df = cities_df[['city']]\n",
    "countries_df = countries_df[['value']]\n",
    "\n",
    "# Merge the datasets (concatenate them)\n",
    "merged_df = pd.concat([cities_df, countries_df], ignore_index=True)\n",
    "\n",
    "# Remove duplicates (if any)\n",
    "merged_df = merged_df.drop_duplicates()\n",
    "\n",
    "# Save to a new CSV file\n",
    "merged_df.to_csv(\"merged_names.csv\", index=False)\n",
    "\n",
    "print(\"✅ Merged dataset created with only names from both files.\")"
   ]
  }
 ],
 "metadata": {
  "kernelspec": {
   "display_name": ".venv",
   "language": "python",
   "name": "python3"
  },
  "language_info": {
   "codemirror_mode": {
    "name": "ipython",
    "version": 3
   },
   "file_extension": ".py",
   "mimetype": "text/x-python",
   "name": "python",
   "nbconvert_exporter": "python",
   "pygments_lexer": "ipython3",
   "version": "3.12.3"
  }
 },
 "nbformat": 4,
 "nbformat_minor": 2
}
